{
 "cells": [
  {
   "cell_type": "code",
   "execution_count": null,
   "id": "fbef78b1",
   "metadata": {},
   "outputs": [],
   "source": [
    "# %matplotlib inline\n",
    "\n",
    "import matplotlib.pyplot as plt\n",
    "import torch\n",
    "\n",
    "\n",
    "X = torch.arange(0, 1.01, 0.01)\n",
    "# print('X', X)\n",
    "\n",
    "plt.xlabel('P(x)')\n",
    "plt.plot(X, X, label='P(x)')\n",
    "plt.plot(X, X.log(), label='log(P(x))')\n",
    "plt.legend()\n",
    "plt.show()\n",
    "\n",
    "plt.plot(X, - X.log() * X, label='- P(x) . log(P(x))')\n",
    "plt.xlabel('P(x)')\n",
    "plt.legend()\n",
    "plt.show()\n",
    "\n",
    "x0 = X\n",
    "x1 = 1 - X\n",
    "H_0 = - x0 * x0.log()\n",
    "H_1 = - x1 * x1.log()\n",
    "H = H_0 + H_1\n",
    "plt.plot(x0, H_0, label='H_0')\n",
    "plt.plot(x0, H_1, label='H_1')\n",
    "plt.plot(x0, H, label='H')\n",
    "plt.xlabel('P(x0)')\n",
    "plt.legend()\n",
    "plt.show()\n"
   ]
  },
  {
   "cell_type": "code",
   "execution_count": null,
   "id": "71267060",
   "metadata": {},
   "outputs": [],
   "source": [
    "%matplotlib notebook\n",
    "# %matplotlib inline\n",
    "import numpy as np\n",
    "import matplotlib.pyplot as plt\n",
    "import torch\n",
    "from mpl_toolkits import mplot3d\n",
    "\n",
    "def f(x, y):\n",
    "    x0 = x\n",
    "    x1 = y\n",
    "    x2 = 1 - x0 - x1\n",
    "    return - x0 * np.log(x0) - x1 * np.log(x1) - x2 * np.log(x2)\n",
    "#     return np.sin(np.sqrt(x ** 2 + y ** 2))\n",
    "\n",
    "x = np.linspace(0.0, 1.0, 20)\n",
    "y = np.linspace(0.0, 1.0, 20)\n",
    "\n",
    "X, Y = np.meshgrid(x, y)\n",
    "Z = f(X, Y)\n",
    "\n",
    "fig = plt.figure()\n",
    "ax = plt.axes(projection='3d')\n",
    "# ax.contour3D(X, Y, Z, 50, cmap='binary')\n",
    "ax.plot_surface(X, Y, Z, rstride=1, cstride=1,\n",
    "                cmap='viridis', edgecolor='none')\n",
    "ax.set_xlabel('x[0]')\n",
    "ax.set_ylabel('x[1]')\n",
    "ax.set_zlabel('H');"
   ]
  },
  {
   "cell_type": "code",
   "execution_count": null,
   "id": "867636ea",
   "metadata": {},
   "outputs": [],
   "source": [
    "import torch\n",
    "\n",
    "for probs in [\n",
    "        torch.tensor([0.0, 0.0, 1.0]),\n",
    "        torch.tensor([0.1, 0.1, 0.8]),\n",
    "        torch.tensor([0.333333, 0.3333333, 0.333333]),\n",
    "]:\n",
    "    print('')\n",
    "    print('probs', probs)\n",
    "    entropy = - (probs * probs.log()).sum()\n",
    "    print('entropy', entropy)\n",
    "\n",
    "    \n",
    "ent_reg = 0.0001\n",
    "loss = reinforcement_loss + ent_reg * entropy"
   ]
  }
 ],
 "metadata": {
  "kernelspec": {
   "display_name": "Python 3 (ipykernel)",
   "language": "python",
   "name": "python3"
  },
  "language_info": {
   "codemirror_mode": {
    "name": "ipython",
    "version": 3
   },
   "file_extension": ".py",
   "mimetype": "text/x-python",
   "name": "python",
   "nbconvert_exporter": "python",
   "pygments_lexer": "ipython3",
   "version": "3.8.5"
  }
 },
 "nbformat": 4,
 "nbformat_minor": 5
}
